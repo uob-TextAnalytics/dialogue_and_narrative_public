{
 "cells": [
  {
   "cell_type": "markdown",
   "metadata": {},
   "source": [
    "# Lab 1: Regular Expressions and Text Normalisation\n",
    "\n",
    "### Aims\n",
    "\n",
    "* Install the required libraries and refamiliarise yourself with Python and Jupyter notebooks \n",
    "* Get familiar with some basic NLTK tools for preprocessing text \n",
    "* Understand regular expressions\n",
    "* Carry out text normalisation steps\n",
    "\n",
    "### Outline\n",
    "\n",
    "* Getting started: how to set up your environment, Jupyter notebooks introduction\n",
    "* Acquiring raw text data\n",
    "* Regular expressions\n",
    "* Text normalisation \n",
    "\n",
    "### How To Complete This Lab\n",
    "\n",
    "Read the text and the code then look for 'TODOs' that instruct you to complete some missing code. You don't have to stick rigidly to the lab -- feel free to explore other methods and data to help you understand what's going on or to try out new methods that go beyond this lab. \n",
    "\n",
    "Aim to work through the lab during the scheduled lab hours. You can also post your questions to our Team's QA channel throughout the week.\n",
    "\n",
    "The labs *will not be marked*. However, they will prepare you for the coursework, so try to keep up with the weekly labs and have fun with the exercises!\n",
    "      \n",
    "### Additional Exercises\n",
    "\n",
    "If you would like to do more lab exercises or would like an alternative explanation, please see Chapters 1-3 in the NLTK book, which goes into more detail than we do here. https://www.nltk.org/book/ "
   ]
  },
  {
   "cell_type": "markdown",
   "metadata": {},
   "source": [
    "## Getting Started\n",
    "\n",
    "### Setting up your environment\n",
    "\n",
    "We recommend using ```conda``` to create an environment with the correct versions of all the packages you need for these labs. You can install either Anaconda or Miniconda, which will include the ```conda``` program. \n",
    "\n",
    "We provide a .yml file alongside this notebook that lists all the packages you will need, and the versions that we have tested the labs with. You can use this file to create your environment as follows.\n",
    "\n",
    "1. Open a terminal. Use the command line to navigate to the directory containing this notebook and the file ```dialogue_and_narrative.yml```. You can use the command ```cd``` to change directory on the command line.\n",
    "\n",
    "1. Run the conda program by typing ```conda env create -f dialogue_and_narrative.yml```, then answer any questions that appear on the command line.\n",
    "\n",
    "1. Activate the environment by running the command ```conda activate dialogue_and_narrative```.\n",
    "\n",
    "1. Make kernel available in Jupyter: ```python -m ipykernel install --user --name=dialogue_and_narrative```.\n",
    "\n",
    "1. Relaunch Jupyter: shutdown any running instances, and then type ```jupyter lab``` or ```jupyter notebook``` into your command line, depending on whether you prefer the full Jupyter lab development environment, or the simpler Jupyter notebook.\n",
    "\n",
    "1. Find this notebook and open it up again.\n",
    "\n",
    "1. Go to the top menu and change the kernel: click on 'Kernel'--> 'Change kernel' --> data_analytics.\n",
    "\n",
    "You should now be ready to go!\n",
    "\n",
    "The core libraries we will be using in this unit are:\n",
    "\n",
    "- [Datasets](https://huggingface.co/docs/datasets/), produced by HuggingFace, is a hub for lots of interesting text datasets.\n",
    "- [NLTK](https://www.nltk.org), a comprehensive NLP library.\n",
    "- [Scikit-learn](https://scikit-learn.org/stable/user_guide.html), for machine learning and classifier evaluation.\n",
    "- [Transformers](https://huggingface.co/docs/transformers/), also produced by HuggingFace, this library wraps up many pretrained deep neural networks, which we will look at later in the unit. \n",
    "\n",
    "The libraries above have good documentation, which is available either online (links above) or via Python itself, e.g. `help(numpy.array)` in the Python interpreter. \n",
    "\n",
    "### Refreshers for Python and Jupyter\n",
    "\n",
    "**Skip this part if you're already familiar with Python and Jupyter notebooks.**\n",
    "\n",
    "This lab assumes you have used Python and Jupyter Notebooks before. \n",
    "\n",
    "For an introduction or refresher on Python, see the [Introduction to Python lab](https://github.com/UoB-COMS21202/lab_sheets_public/tree/master/lab_1) or the University of Bristol [Beginning Python](https://milliams.gitlab.io/beginning_python/) course. If you are a beginner with Python, you might also like to look at Chapter 1 in the NLTK book, which also provides a guide for \"getting started with Python\": https://www.nltk.org/book/ \n",
    "\n",
    "You will need to use Python 3, not Python 2. Specifically Python 3.6 or newer is recommended.\n",
    "\n",
    "The labs will be run on [Jupyter Notebook](http://jupyter.org/), an interactive coding environment embedded in a webpage supporting various programing languages (Python, R, Lua, etc.) through the concept of kernels.  \n",
    "\n",
    "It allows you to enrich your code with complex comments formatted in Markdown and $\\LaTeX$, as well as to place the results of your computation right below your code.\n",
    "\n",
    "Notebooks are organised in cells which can contain either code (in our case, this will be Python code) or text, which can be easily and nicely formatted using the Markdown notation. \n",
    "\n",
    "To edit an already existing cell simply double-click on it. You can use the toolbar to insert new cells, edit and delete them (or use keyboard shortcuts which are very handy to speed up coding). \n",
    "\n",
    "Cells can be run, by hitting `shift+enter` when editing a cell or by clicking on the `Run` button at the top. Running a Markdown cell will simply display the formatted text, while running a code cell will execute the commands executed in it. \n",
    "\n",
    "**Note**: when you run a code cell, all the created variables, implemented functions and imported libraries will be then available to every other code cell. However, it is commonly assumed that cells will be run sequentially in terms of prerequisites. To reset all variables and functions (for debugging) simply click `Kernel > Restart` from the Jupyter menu.\n",
    "\n",
    "#### Markdown\n",
    "\n",
    "Markdown cells allow you to write fancy and simple comments: all of this is written in Markdown - double click on this cell to see the source. Introduction to Markdown syntax can be found [here](https://daringfireball.net/projects/markdown/syntax).\n",
    "\n",
    "As Markdown is translated to HTML upon displaying it also allows you to use pure HTML: more details are available [here](https://daringfireball.net/projects/markdown/syntax#html).\n",
    "\n",
    "Finally, you can also display simple $\\LaTeX$ equations in Markdown thanks to `MathJax` support. For inline equations wrap your equation between `$` symbols; for display mode equations use `$$`."
   ]
  },
  {
   "cell_type": "markdown",
   "metadata": {},
   "source": [
    "# 2. Doc2Dial Dataset\n",
    "\n",
    "The Doc2dial dataset was introduced for a 'shared task', where teams from different institutions compete in building a dialogue system. The dataset contains dialogues between a user and a customer service agent working for the US department of motor vehicles. The task is broken into two steps: first, retrieve relevant information from a document to answer a user's query; then, use this information to formulate a response as a line of dialogue. More on the task here:\n",
    "https://doc2dial.github.io/workshop2021/shared.html\n",
    "\n",
    "The raw data is available [here](https://doc2dial.github.io/file/doc2dial_v1.0.1.zip) but we will use a data loader class from the [HuggingFace datasets library](https://huggingface.co/docs/datasets/loading_datasets.html) to load it. "
   ]
  },
  {
   "cell_type": "code",
   "execution_count": 1,
   "metadata": {},
   "outputs": [
    {
     "name": "stderr",
     "output_type": "stream",
     "text": [
      "Reusing dataset doc2dial (./data_cache/doc2dial/dialogue_domain/1.0.1/765cb4d9af421b599d910080fd61b4a43440c1232693876470ef3245daa5fa4c)\n"
     ]
    }
   ],
   "source": [
    "from datasets import load_dataset\n",
    "\n",
    "split = \"train\"\n",
    "cache_dir = \"./data_cache\"\n",
    "\n",
    "dataset = load_dataset(\n",
    "    \"doc2dial\",\n",
    "    name=\"dialogue_domain\",  # this is the name of the dataset for the second subtask, dialog generation\n",
    "    split=split,\n",
    "    ignore_verifications=True,\n",
    "    cache_dir=cache_dir, # Save the data here so we don't have to download it again\n",
    ")"
   ]
  },
  {
   "cell_type": "code",
   "execution_count": 2,
   "metadata": {},
   "outputs": [
    {
     "name": "stdout",
     "output_type": "stream",
     "text": [
      "The dataset has 3474 instances\n",
      "An example instance: \n",
      "{'dial_id': '92db4f3c68ab3fb2851f4a559d9c2d1e', 'doc_id': 'Temporary Disability Rating After Surgery Or Cast | Veterans Affairs#1_0', 'domain': 'va', 'turns': [{'turn_id': 1, 'role': 'user', 'da': 'query_condition', 'references': [{'sp_id': '28', 'label': 'precondition'}], 'utterance': 'Hello I need information on How do I get these disability rating benefits?'}, {'turn_id': 2, 'role': 'agent', 'da': 'respond_solution', 'references': [{'sp_id': '29', 'label': 'solution'}, {'sp_id': '30', 'label': 'solution'}], 'utterance': 'To get these benefits, you must file a disability compensation claim. Find out how to file a disability compensation claim'}, {'turn_id': 3, 'role': 'agent', 'da': 'query_condition', 'references': [{'sp_id': '36', 'label': 'precondition'}], 'utterance': 'How much do you have a qualified injury of 30% or more that has worsened?'}, {'turn_id': 4, 'role': 'user', 'da': 'response_negative', 'references': [{'sp_id': '36', 'label': 'precondition'}], 'utterance': 'do not'}, {'turn_id': 5, 'role': 'user', 'da': 'query_solution', 'references': [{'sp_id': '3', 'label': 'solution'}, {'sp_id': '4', 'label': 'solution'}], 'utterance': 'if a veteran has an immobilizing disability how is it rated?'}, {'turn_id': 6, 'role': 'agent', 'da': 'respond_solution', 'references': [{'sp_id': '3', 'label': 'solution'}, {'sp_id': '4', 'label': 'solution'}], 'utterance': 'You may be able to get a 100% temporary disability rating and disability compensation or benefits if you have this type of immobilizing disability.'}, {'turn_id': 7, 'role': 'user', 'da': 'query_solution', 'references': [{'sp_id': '8', 'label': 'solution'}, {'sp_id': '9', 'label': 'solution'}], 'utterance': 'Can I get VA disability benefits?'}, {'turn_id': 8, 'role': 'agent', 'da': 'respond_solution', 'references': [{'sp_id': '8', 'label': 'solution'}, {'sp_id': '9', 'label': 'solution'}], 'utterance': 'Yes, but if you had surgery, you must comply with the following:\\n\\xa0\\xa0\\xa0\\xa0 The surgery required a recovery time of at least one month or reports show that the surgery or treatment was for a service-related disability,'}, {'turn_id': 9, 'role': 'user', 'da': 'query_solution', 'references': [{'sp_id': '11', 'label': 'solution'}, {'sp_id': '12', 'label': 'solution'}, {'sp_id': '13', 'label': 'solution'}], 'utterance': 'What if problems arose during surgery?'}, {'turn_id': 10, 'role': 'agent', 'da': 'respond_solution', 'references': [{'sp_id': '11', 'label': 'solution'}, {'sp_id': '12', 'label': 'solution'}, {'sp_id': '13', 'label': 'solution'}], 'utterance': 'If Surgery resulted in serious problems, such as: not being completely healed or Surgical wounds can benefit'}, {'turn_id': 11, 'role': 'user', 'da': 'query_solution', 'references': [{'sp_id': '6', 'label': 'solution'}], 'utterance': 'Can I get VA disability benefits?'}, {'turn_id': 12, 'role': 'agent', 'da': 'respond_solution', 'references': [{'sp_id': '6', 'label': 'solution'}], 'utterance': 'You may be able to get disability benefits if you had surgery or other treatment at a VA hospital, an approved hospital, or an outpatient facility for a military-related disability called service-related disability'}]}\n"
     ]
    }
   ],
   "source": [
    "print(f'The dataset has {len(dataset)} instances')\n",
    "\n",
    "print('An example instance: ')\n",
    "print(dataset[2342])"
   ]
  },
  {
   "cell_type": "markdown",
   "metadata": {},
   "source": [
    "Look at the formatting of the output -- it looks like a nested set of Python dictionaries and lists. We can access the different fields in a single data sample as if reading from a Python dictionary.\n",
    "\n",
    "For our lab this week, we will need some examples of dialogue written by a user. Let's get some from the training set of Doc2Dial.\n",
    "\n",
    "***TODO 1.1:*** get a list containing all the user utterances from 100 different conversations. Name the list 'utterances'. Hint: look at the output from the previous cell to see where the utterances are stored."
   ]
  },
  {
   "cell_type": "code",
   "execution_count": 3,
   "metadata": {},
   "outputs": [
    {
     "name": "stdout",
     "output_type": "stream",
     "text": [
      "607\n",
      "['Hello, I forgot o update my address, can you help me with that?', 'Can I do my DMV transactions online?', 'Thanks, and in case I forget to bring all of the documentation needed to the DMV office, what can I do?', 'Ok, and can you tell me again where should I report my new address?', 'Can you tell me more about Traffic points and their cost?', 'Will you keep me informed about when my insurance is about to lapse?', 'Is it needed that my address is always up to date with you guys?', 'Can you tell me more about the traffic points and its cost?', \"It's always a hassle to bring all the required documents to the DMV Office. Please tell me an alternative.\", 'In case I have a problem with my insurance and your inquiry letter does not resolve the problem, what would happen.']\n"
     ]
    }
   ],
   "source": [
    "### WRITE YOUR ANSWER\n",
    "utterances = []\n",
    "nsamples = 0\n",
    "for sample in dataset:\n",
    "    turns = sample['turns']\n",
    "    for turn in turns:\n",
    "        if turn['role'] == 'user':\n",
    "            utterances.append(turn['utterance'])\n",
    "            \n",
    "    nsamples += 1\n",
    "    if nsamples == 100:\n",
    "        break\n",
    "            \n",
    "###\n",
    "print(len(utterances))\n",
    "print(utterances[:10])"
   ]
  },
  {
   "cell_type": "markdown",
   "metadata": {},
   "source": [
    "# 2. Regular Expressions\n",
    "\n",
    "Next, we are going to experiment with building a simple chatbot using regular expressions, which are an important NLP tool -- not everything needs machine learning! The aims are to get familiar with regular expressions and to see some limitations of rule-based approaches. \n",
    "\n",
    "Many text processing systems make use of regular expressions, which are a language for specifying sets of strings. We can use regular expressions to define a pattern to search for in a corpus of text and retrieve all the occurrences of that pattern. We can also use regular expressions to replace one text pattern with another. Regular expressions are therefore used in various NLP systems, e.g., to implement tokenisation or extract features for a classifier by looking for specific patterns. They can often be used to build a simple baseline for tasks like text classification before developing a machine learning solution. \n",
    "\n",
    "## 2.1 Search\n",
    "\n",
    "Suppose we want to identify when the user asks the agent whether they can do something. We can start by finding occurrences of the word \"can\":"
   ]
  },
  {
   "cell_type": "code",
   "execution_count": 4,
   "metadata": {},
   "outputs": [
    {
     "name": "stdout",
     "output_type": "stream",
     "text": [
      "{'can'}\n",
      "99\n"
     ]
    }
   ],
   "source": [
    "import re\n",
    "\n",
    "all_matches = []\n",
    "\n",
    "for utterance in utterances:\n",
    "    matches = re.findall(r'can', utterance)\n",
    "    \n",
    "    if len(matches):  # if it found something\n",
    "        all_matches.extend(matches)\n",
    "    \n",
    "print(set(all_matches))  # use a set to get the unique instances in the list\n",
    "print(len(all_matches))  # length of the list of matches"
   ]
  },
  {
   "cell_type": "markdown",
   "metadata": {},
   "source": [
    "The regular expression above searches for an exact match, which means we will miss the cases where 'can' is capitalised. Fortunately, regular expressions define a set of strings by specifying a pattern, allowing us to generalise our search and retrieve a set of many different strings that match the pattern. Let's improve our search step by step to retrieve retrieve both capitalised and lower case occurrences of the word.\n",
    " \n",
    "To do this, we will use the *disjunction* capability of REs. The disjunction of two or more characters is written using square brackets. The regular expression now defines a set of strings, including this disjunction."
   ]
  },
  {
   "cell_type": "code",
   "execution_count": 5,
   "metadata": {},
   "outputs": [
    {
     "name": "stdout",
     "output_type": "stream",
     "text": [
      "{'can', 'Can'}\n",
      "155\n"
     ]
    }
   ],
   "source": [
    "all_matches = []\n",
    "\n",
    "for utterance in utterances:\n",
    "    matches = re.findall(r'[Cc]an', utterance)\n",
    "    \n",
    "    if len(matches):  # if it found something\n",
    "        all_matches.extend(matches)\n",
    "    \n",
    "print(set(all_matches))  # use a set to get the unique instances in the list\n",
    "print(len(all_matches))  # length of the list of matches"
   ]
  },
  {
   "cell_type": "markdown",
   "metadata": {},
   "source": [
    "This has given us a list of matches in the variable `all_matches`, which all contain the string 'can', but not the complete phrases containing this word, which isn't very useful!\n",
    "\n",
    "In the next cells, we will expand our pattern to match the word following 'can' as well. To do this, we need to broaden the disjunction by using some special characters in the RE string:\n",
    "   * Match any lower case letter: 'a-z'\n",
    "   * Repetition: Match zero or more repetitions of the preceding RE: '\\*'\n",
    "   \n",
    "There are lots of other special characters -- for a complete list of special characters, see https://docs.python.org/3/library/re.html#regular-expression-syntax.\n",
    "\n",
    "The code below retrieves strings containing 'can' followed by the first letter of the next word. \n",
    "\n",
    "***TODO 2.1:*** Using the special characters mentioned above, modify the RE below to retrieve the complete following words. "
   ]
  },
  {
   "cell_type": "code",
   "execution_count": 6,
   "metadata": {},
   "outputs": [
    {
     "name": "stdout",
     "output_type": "stream",
     "text": [
      "{'can that', 'can he', 'can send', 'Can you', 'can transfer', 'can take', 'can register', 'can my', 'can find', 'Can ', 'can go', 'can', 'can ', 'Can a', 'can we', 'can do', 'Can i', 'can i', 'can there', 'can be', 'Can there', 'can you', 'can mail', 'Can another', 'Can my', 'can opt', 'Can', 'can get'}\n",
      "301\n"
     ]
    }
   ],
   "source": [
    "for utterance in utterances:\n",
    "    ### MODIFY THE CODE HERE\n",
    "    # matches = re.findall(r'[Cc]an [a-z]', utterance)\n",
    "    matches = re.findall(r'[Cc]an [a-z]*', utterance)\n",
    "    ###\n",
    "    \n",
    "    if len(matches):  # if it found something\n",
    "        all_matches.extend(matches)\n",
    "    \n",
    "print(set(all_matches))  # use a set to get the unique instances in the list\n",
    "print(len(all_matches))  # length of the list of matches"
   ]
  },
  {
   "cell_type": "markdown",
   "metadata": {},
   "source": [
    "Suppose we want to extract only the words that follow 'can' -- how can we separate the following word from 'can' itself?\n",
    "\n",
    "Here, we can use *groups*, to group the characters to match the characters of 'can' into one group, and the characters that match the following word into another group. In RE syntax, parentheses '(...)' encapsulate *groups*. A group is a regular expression nested within a larger RE. Groups are especially useful because you can apply special characters such as \\*  to expressions inside a group.\n",
    "\n",
    "The findall function returns the matches as tuples of length N, where N is the number of groups in the expression. \n",
    "\n",
    "\n",
    "***TODO 2.2:*** Modify the expression below to extract a list of words that follow 'can'. Hint: what happens if we remove one set of parentheses?"
   ]
  },
  {
   "cell_type": "code",
   "execution_count": 7,
   "metadata": {},
   "outputs": [
    {
     "name": "stdout",
     "output_type": "stream",
     "text": [
      "{'', 'find', 'do', 'there', 'take', 'be', 'we', 'send', 'a', 'transfer', 'you', 'my', 'opt', 'another', 'i', 'get', 'mail', 'he', 'register', 'go', 'that'}\n",
      "146\n"
     ]
    }
   ],
   "source": [
    "all_matches = []\n",
    "\n",
    "for utterance in utterances:\n",
    "    ### MODIFY THE CODE HERE\n",
    "    # matches = re.findall(r'([Cc]an) ([a-z])', utterance)\n",
    "    matches = re.findall(r'[Cc]an ([a-z]*)', utterance)\n",
    "    ###\n",
    "    \n",
    "    if len(matches):  # if it found something\n",
    "        all_matches.extend(matches)\n",
    "    \n",
    "print(set(all_matches))  # use a set to get the unique instances in the list\n",
    "print(len(all_matches))  # length of the list of matches"
   ]
  },
  {
   "cell_type": "markdown",
   "metadata": {},
   "source": [
    "This is starting to seem more useful -- we've retrieved a set words that are used alongside a term of interest. What we really want is to extract the whole context of these words, i.e., the sentences or phrases they are contained in. For this we may need a few more special characters:\n",
    "   * Complement, match any character except the specified ones: '[^A]'\n",
    "   * New line: '\\\\n'\n",
    "   * Escape: e.g., '\\\\?', '\\\\'. Using the backslash in front of special characters means that they are not interpreted as special chracters but are treated literally, in this case as a question mark or full stop. \n",
    "\n",
    "\n",
    "The code below uses the complement special character to match the next character after 'can' as long as it is not a punctuation mark or newline. \n",
    "\n",
    "***TODO 2.3:*** Modify the expression below so that it retrieves the complete phrase including the word 'can', from the start of the utterance or the previous punctuation mark, until the next punctuation mark or newline. \n",
    "\n",
    "***TODO 2.4:*** In the cell below, in the line that computes 'all_matches = \\[...', what do the square brackets '\\[...\\]' do? Hint: *list comprehension* "
   ]
  },
  {
   "cell_type": "code",
   "execution_count": 13,
   "metadata": {},
   "outputs": [
    {
     "name": "stdout",
     "output_type": "stream",
     "text": [
      "{'What out of state insurance documents can I give to DMV?', ' can I surrender them to the New York State DMV?', 'What can I do if my browser is not compatible?', 'Can I submit copies or faxes of my Insurance identification card to the DMV?', 'How can I verify my browser compatibility?', ' can I do it?', 'Can you tell me more about Traffic points and their cost?', 'Can I leave the state without notifying DMV?', 'So what can I do with my over 2 years expired non-driver ID card?', ' how can I determine the fee?', 'How can I know if am eligible for a refund?', ' Or can I do the whole process by mail as if I was here?', ' i suppose i can go online.', 'Can you tell me more about the traffic points and its cost?', ' what can I do?', 'Can you tell me what to do to surrender New York State plates?', 'Can I take my road test if I am under 18?', 'How can I get a refund?', 'can you give me more information about renewing the non-driver ID card?', ' can I get a 2-year refund?', 'How can I verify if my browser is compatible?', 'Can you help me with how to avoid the lapse of my insurance?', 'Where can I know more about these taxes?', 'Who can opt for the reduced fee or \"No Fee\" non-driver IDs?', 'If my Temporary Visitor status is extended can I renew my non-driver ID card?', 'How can I get my refund ?', 'What info can you give me about those that search for my DMV records?', ' How can I contact DMV about this?', 'What can I use the use tax chart for counties outside New York City?', 'Can you help me determine my total registration fees for my commercial vehicle?', 'Can you give me an address for dial-in search account consultations?', 'Can i just sent copies or fax my Insurance Identification Card?', ' so can I surrender my plates temporarily?', 'Tell me some transactions I can do online.', 'Can I send an appeal by mail?', 'How many names can there be in the vehicle registration?', ' Can I please confirm the address that I can mail my ID renewal to is NYS Department of Motor Vehicles207 Genesee Street ,', ' Can I use it for this?', 'How can I know the fee I must pay?', ' and can you tell me again where should I report my new address?', 'What kind of vehicles can I see in the registration fee chart?', 'Can I renew my non-driver ID card if it expired 3 years ago?', 'How can I prepare for my road test?', 'Can you please tell me more about the county use taxes?', 'or can i register without one?', 'Can you tell me how I will know if my application has been accepted?', ' so how can I get the FS-6 T receipt if I do the process by mail?', ' can i get a new one using the old registration?', 'can i get a refund if i change my name?', 'Can I turn in the plates?', 'What other information can I get?', ' can you please how to tell me how to contact DMV about my dial-in search account.', 'What service can I use to check my appeal status?', 'What transactions can I do online?', ' can I still get a refund?', \"Can you keep me up to date with my insurance so it doesn't lapse?\", ' can i bring an attorney with me to represent me on the appealing?', 'Can you give me a mailing address to contact the DMV about my dial-in search account?', 'Can I submit that online or do I have to print it up and give it to him to bring in?', ' What can you tell me about the topics being discussed on the course?', 'Can I avoid to pay the fine after filing an appeal?', ' can you help me with that please?', 'Where can I get the UT-11 form?', ' Can you help me on this?', ' can I get a refund?', 'can i get a refund if i changed my name?', ' So that I can send it to her,', 'Can I use insurance documents from other states?', ' can i appeal the denial of an application,', ' If I want to register my vehicle here in new york can that out-of-state insurance be accepted?', \"In case I'm overseas what can I do to renew my non-driver ID card?\", 'Can there be 2 different names in the vehicle registration?', 'What type of policy do I need to have in place before I can register a vehicle?', 'With how many names can I register a vehicle?', ' Can you explain more?', ' can you tell me now what do I need to register a vehicle?', 'Need to know if my plates can be surrendered temporarily?', ' Can I fill in some of the paperwork online?', 'Can I still apply for a refund if the registration sticker was attached to the plate?', ' where can I get more info about it.', ' can you help me´?', 'Can I file an appeal by mail?', 'Can I visit the page with mi phone?', 'Tell me about what can I do to not let my insurance lapse.', 'I would like to know about DIAL-IN search account and can i get one?', 'Can you give me some examples of business records that I must keep in order to document the searches?', 'Can I give my plates to another person?', 'In case my non-driver ID is expired for over 2 years can I still renew it?', 'Can a motorist know if I searched his records using the dial-in search account?', ' Can my little brother some in instead?', 'Can I know if anybody asked for my records?', 'Can I renew more than 41 days before my 21st birthday?', ' Can you tell me what i need to do or if there is any condition to appeal in that way?', 'Can NYS law requirements affect my appeal?', 'Can another person surrender the plate for me and what would I need after?', 'Can I get a refund for the first year of my registration after receiving a refund for the second year?', 'But what can I do with my insurance from another state?', 'Can I take my road test without having supervised practice driving?', ' Can i pay that fee with my credit card?', 'Can I do my DMV transactions online?', ' how i can find one,', 'When can I appeal the denial of an application to reopen the default conviction?', 'So can I use a copy or fax of my Insurance Identification Card to give it to the DMV?', 'What documents can I submit as proof of SSI?', ' What can I do?', 'Can I surrender my plates temporarily?', 'Can I do it by mail?', ' Can you help me?', 'how can i get a refund?', 'How can I appeal a TVB ticket?', ' can you help me with this,', \"Can I mail the DMV exhibits that can't be submitted online?\", ' can I get a refund for the first year?', 'If I find the plates can my brother-in-law bring them in to prove that I got them back?', \"How can I know if I'm eligible for a refund?\", 'How should I mail my plate so I can get the FS-6 T receipt?', ' What does it contain and how can I find one?', 'Can you repeat the address where I should send the form?', ' can i appeal that denial later?', ' can we get a refund?', 'Can you give me any additional information about renewing my non-driver ID card?', ' how can I get one?', \"How can I know again if I'm eligible for a refund?\", 'Is there a minimum amount of proven supervised practice driving that I must have before I can take the raod test?', 'Can you tell me how to determine the fees for a commercial vehicle?', 'Can I just notify the United States Postal Service about a change of address or do I have to update this info with the DMV too?', 'I was wondering if you could give me some more information about whether i can transfer credit from my old vehicle plate?', ' Where can I take the course?', 'Can i submit an additional Appeal Arguemnt?', ' can you help me with that?', \"Can I just write my new address in the back of my license if I haven't updated my address at the DMV?\", 'So how can I renew my non-driver ID card?', ' can he get a reduced fee benefit when renewing his non-driver ID card?', 'Can you tell me about browser compatibility?', 'Can I submit a copy of my Insurance Identification Card to DMV or should it only be the original document?', \"So there's nothing I can do if the sticker was attached to the windshield?\", 'What can I do to get an acceptable insurance if my vehicle is registered in New York?'}\n",
      "140\n"
     ]
    }
   ],
   "source": [
    "all_matches = []\n",
    "\n",
    "for utterance in utterances:\n",
    "    ### MODIFY THE CODE HERE\n",
    "    # matches = re.findall(r'()([Cc]an )([^\\.\\?!;:,\\n])()', utterance)\n",
    "    matches = re.findall(r'([^\\.\\?!;:,\\n]*)([Cc]an )([^\\.\\?!;:,\\n]*)([\\.\\!\\?\\n;:,])', utterance)\n",
    "    ###\n",
    "    if len(matches):  # if it found something\n",
    "        all_matches.extend(matches)\n",
    "        \n",
    "all_matches = [m[0] + m[1] + m[2] + m[3] for m in all_matches]\n",
    "print(set(all_matches))  # use a set to get the unique instances in the list\n",
    "print(len(all_matches))  # length of the list of matches"
   ]
  },
  {
   "cell_type": "markdown",
   "metadata": {},
   "source": [
    "### 2.2 Substitution\n",
    "\n",
    "We can also use regular expressions to replace one string with another, i.e., *substitution*. This is extremely useful for implementing text preprocessing steps, which clean up and format the text so that it can be processed by other methods such as text classifiers. We can even use it to implment simple chatbots!\n",
    "\n",
    "In Python, we can use the re.sub() function to replace one regular expression with an other. re.sub() takes three arguments: \n",
    "* The first argument specifies the search expression, which is the expression to match in the input text\n",
    "* The second defines the replacement pattern we should replace the search expression with\n",
    "* The third is the input text that we want to apply the subtitution to. \n",
    "\n",
    "As before, the search expression can match *groups* of characters. The replacement pattern can also include these groups of characters by referring to them using special variables. We use '\\1' for the first group, '\\2' for the second, etc. \n",
    "\n",
    "The example below shows how a dialogue system can use substitution to personalise a greeting:"
   ]
  },
  {
   "cell_type": "code",
   "execution_count": 9,
   "metadata": {},
   "outputs": [
    {
     "name": "stdout",
     "output_type": "stream",
     "text": [
      "DIALOGUE: Hello, my name is Ada Lovelace.\n",
      "<re.Match object; span=(0, 31), match='Hello, my name is Ada Lovelace.'>\n",
      "CHATBOT RESPONSE: Greetings Ada Lovelace!\n"
     ]
    }
   ],
   "source": [
    "# User gives their name to a chatbot:\n",
    "user_utterance = 'Hello, my name is Ada Lovelace.'\n",
    "print('DIALOGUE: ' + user_utterance)    \n",
    "    \n",
    "# Chatbot uses substitution to find the name and generate a personal response\n",
    "# The '.' is a special character that matches any character.\n",
    "search_re = r'.*[Mm]y name is ([a-zA-Z ]*)([\\.\\!\\?,])(.*)'\n",
    "match = re.search(search_re, user_utterance)\n",
    "print(match)\n",
    "\n",
    "if match:  # repond to the lines that say 'my name is...'   \n",
    "        print('CHATBOT RESPONSE: ' + re.sub(search_re, r'Greetings \\1!', user_utterance))\n",
    "else:  # respond to other lines\n",
    "        print('CHATBOT RESPONSE: I do not understand.')"
   ]
  },
  {
   "cell_type": "markdown",
   "metadata": {},
   "source": [
    "Note: Only the search expression match will be substituted by the replacement expression.\n",
    "\n",
    "Let's use regular expression substitutions to create our first dialogue system! In 1966, a famous chatbot, ELIZA, was built using regular expression subsitutions, which mimicked a Rogerian psycotherapist in a way that appeared convincing to many people.\n",
    "\n",
    "[1] Weizenbaum, J. (1966).  ELIZA – A computer program forthe study of natural language communication between manand machine.CACM 9(1), 36–45\n",
    "\n",
    "This was possible because Rogerian psycotherapists often respond with simple questions that don't require a lot of reasoning about what the patient has said. The doc2dial task is much more complex as the agent has to respond to complex customer service queries. In any case, let's see if we can generate some human-like responses to the utterances in the dataset using regular expression substitutions.\n",
    "\n",
    "The code below responds to utterances containing the phrase 'can you'. For utterances where it does not find the phrase 'can you', it simply replies with 'I do not understand'. \n",
    "\n",
    "***TODO 2.5:*** Change the code below to reduce the frequency with which the chatbot says 'I do not understand', and improve the generated responses. Try to make five improvements. You can add new search patterns, and improve the replacement pattern to make the responses more convincing.\n",
    "\n",
    "***TODO 2.6:*** Think about the challenge of creating a customer service chatbot using regular expressions. Is it possible? What are the challenges? What kinds of tasks might regular expressions be useful for when building a chatbot?"
   ]
  },
  {
   "cell_type": "code",
   "execution_count": 10,
   "metadata": {},
   "outputs": [
    {
     "name": "stdout",
     "output_type": "stream",
     "text": [
      "DIALOGUE:  can you help me with that?\n",
      "CHATBOT RESPONSE: Yes, I can help you with that?\n",
      "DIALOGUE: Can I do my DMV transactions online?\n",
      "CHATBOT RESPONSE: I do not understand.\n",
      "DIALOGUE:  what can I do?\n",
      "CHATBOT RESPONSE: I do not understand.\n",
      "DIALOGUE:  and can you tell me again where should I report my new address?\n",
      "CHATBOT RESPONSE: Yes, I can tell you again where should I report my new address?\n",
      "DIALOGUE: Can you tell me more about Traffic points and their cost?\n",
      "CHATBOT RESPONSE: Yes, I can tell you more about Traffic points and their cost?\n",
      "DIALOGUE: Can you tell me more about the traffic points and its cost?\n",
      "CHATBOT RESPONSE: Yes, I can tell you more about the traffic points and its cost?\n",
      "DIALOGUE: Can I leave the state without notifying DMV?\n",
      "CHATBOT RESPONSE: I do not understand.\n",
      "DIALOGUE: Can you keep me up to date with my insurance so it doesn't lapse?\n",
      "CHATBOT RESPONSE: Yes, I can keep you up to date with my insurance so it doesn't lapse?\n",
      "DIALOGUE: Tell me about what can I do to not let my insurance lapse.\n",
      "CHATBOT RESPONSE: I do not understand.\n",
      "DIALOGUE: Can I just write my new address in the back of my license if I haven't updated my address at the DMV?\n",
      "CHATBOT RESPONSE: I do not understand.\n",
      "DIALOGUE: Can you help me with how to avoid the lapse of my insurance?\n",
      "CHATBOT RESPONSE: Yes, I can help you with how to avoid the lapse of my insurance?\n",
      "DIALOGUE: Can I just notify the United States Postal Service about a change of address or do I have to update this info with the DMV too?\n",
      "CHATBOT RESPONSE: I do not understand.\n",
      "DIALOGUE:  What can I do?\n",
      "CHATBOT RESPONSE: I do not understand.\n",
      "DIALOGUE:  Can you explain more?\n",
      "CHATBOT RESPONSE: Yes, I can explain more?\n",
      "DIALOGUE: Can I know if anybody asked for my records?\n",
      "CHATBOT RESPONSE: I do not understand.\n",
      "DIALOGUE:  can you please how to tell me how to contact DMV about my dial-in search account.\n",
      "CHATBOT RESPONSE: Yes, I can please how to tell you how to contact DMV about my dial-in search account.\n",
      "DIALOGUE: What info can you give me about those that search for my DMV records?\n",
      "CHATBOT RESPONSE: Yes, I can give you about those that search for my DMV records?\n",
      "DIALOGUE:  Can I use it for this?\n",
      "CHATBOT RESPONSE: I do not understand.\n",
      "DIALOGUE: Can a motorist know if I searched his records using the dial-in search account?\n",
      "CHATBOT RESPONSE: I do not understand.\n",
      "DIALOGUE: How can I verify if my browser is compatible?\n",
      "CHATBOT RESPONSE: I do not understand.\n",
      "DIALOGUE: Can you tell me about browser compatibility?\n",
      "CHATBOT RESPONSE: Yes, I can tell you about browser compatibility?\n",
      "DIALOGUE: Can you give me an address for dial-in search account consultations?\n",
      "CHATBOT RESPONSE: Yes, I can give you an address for dial-in search account consultations?\n",
      "DIALOGUE: What can I do if my browser is not compatible?\n",
      "CHATBOT RESPONSE: I do not understand.\n",
      "DIALOGUE: Can you give me a mailing address to contact the DMV about my dial-in search account?\n",
      "CHATBOT RESPONSE: Yes, I can give you a mailing address to contact the DMV about my dial-in search account?\n",
      "DIALOGUE: How can I verify my browser compatibility?\n",
      "CHATBOT RESPONSE: I do not understand.\n",
      "DIALOGUE: Can you repeat the address where I should send the form?\n",
      "CHATBOT RESPONSE: Yes, I can repeat the address where I should send the form?\n",
      "DIALOGUE:  How can I contact DMV about this?\n",
      "CHATBOT RESPONSE: I do not understand.\n",
      "DIALOGUE: Can I visit the page with mi phone?\n",
      "CHATBOT RESPONSE: I do not understand.\n",
      "DIALOGUE:  Can i pay that fee with my credit card?\n",
      "CHATBOT RESPONSE: I do not understand.\n",
      "DIALOGUE: I would like to know about DIAL-IN search account and can i get one?\n",
      "CHATBOT RESPONSE: I do not understand.\n",
      "DIALOGUE: Can you give me some examples of business records that I must keep in order to document the searches?\n",
      "CHATBOT RESPONSE: Yes, I can give you soyou examples of business records that I must keep in order to docuyount the searches?\n",
      "DIALOGUE: Can you tell me how I will know if my application has been accepted?\n",
      "CHATBOT RESPONSE: Yes, I can tell you how I will know if my application has been accepted?\n",
      "DIALOGUE: Can I use insurance documents from other states?\n",
      "CHATBOT RESPONSE: I do not understand.\n",
      "DIALOGUE: With how many names can I register a vehicle?\n",
      "CHATBOT RESPONSE: I do not understand.\n",
      "DIALOGUE: What out of state insurance documents can I give to DMV?\n",
      "CHATBOT RESPONSE: I do not understand.\n",
      "DIALOGUE: What can I do to get an acceptable insurance if my vehicle is registered in New York?\n",
      "CHATBOT RESPONSE: I do not understand.\n",
      "DIALOGUE: Can I submit copies or faxes of my Insurance identification card to the DMV?\n",
      "CHATBOT RESPONSE: I do not understand.\n",
      "DIALOGUE: So can I use a copy or fax of my Insurance Identification Card to give it to the DMV?\n",
      "CHATBOT RESPONSE: I do not understand.\n",
      "DIALOGUE: What type of policy do I need to have in place before I can register a vehicle?\n",
      "CHATBOT RESPONSE: I do not understand.\n",
      "DIALOGUE: Can I submit a copy of my Insurance Identification Card to DMV or should it only be the original document?\n",
      "CHATBOT RESPONSE: I do not understand.\n",
      "DIALOGUE: How many names can there be in the vehicle registration?\n",
      "CHATBOT RESPONSE: I do not understand.\n",
      "DIALOGUE: Can there be 2 different names in the vehicle registration?\n",
      "CHATBOT RESPONSE: I do not understand.\n",
      "DIALOGUE:  If I want to register my vehicle here in new york can that out-of-state insurance be accepted?\n",
      "CHATBOT RESPONSE: I do not understand.\n",
      "DIALOGUE: But what can I do with my insurance from another state?\n",
      "CHATBOT RESPONSE: I do not understand.\n",
      "DIALOGUE: or can i register without one?\n",
      "CHATBOT RESPONSE: I do not understand.\n",
      "DIALOGUE: Can i just sent copies or fax my Insurance Identification Card?\n",
      "CHATBOT RESPONSE: I do not understand.\n",
      "DIALOGUE:  how can I determine the fee?\n",
      "CHATBOT RESPONSE: I do not understand.\n",
      "DIALOGUE: Where can I know more about these taxes?\n",
      "CHATBOT RESPONSE: I do not understand.\n",
      "DIALOGUE: Can you please tell me more about the county use taxes?\n",
      "CHATBOT RESPONSE: Yes, I can please tell you more about the county use taxes?\n",
      "DIALOGUE: Can you tell me how to determine the fees for a commercial vehicle?\n",
      "CHATBOT RESPONSE: Yes, I can tell you how to determine the fees for a comyourcial vehicle?\n",
      "DIALOGUE: What can I use the use tax chart for counties outside New York City?\n",
      "CHATBOT RESPONSE: I do not understand.\n",
      "DIALOGUE: Where can I get the UT-11 form?\n",
      "CHATBOT RESPONSE: I do not understand.\n",
      "DIALOGUE: Where can I know more about these taxes?\n",
      "CHATBOT RESPONSE: I do not understand.\n",
      "DIALOGUE: What kind of vehicles can I see in the registration fee chart?\n",
      "CHATBOT RESPONSE: I do not understand.\n",
      "DIALOGUE:  Can you help me?\n",
      "CHATBOT RESPONSE: Yes, I can help you?\n",
      "DIALOGUE: How can I know the fee I must pay?\n",
      "CHATBOT RESPONSE: I do not understand.\n",
      "DIALOGUE:  where can I get more info about it.\n",
      "CHATBOT RESPONSE: I do not understand.\n",
      "DIALOGUE: Can you help me determine my total registration fees for my commercial vehicle?\n",
      "CHATBOT RESPONSE: Yes, I can help you determine my total registration fees for my comyourcial vehicle?\n",
      "DIALOGUE: Can another person surrender the plate for me and what would I need after?\n",
      "CHATBOT RESPONSE: I do not understand.\n",
      "DIALOGUE:  can I do it?\n",
      "CHATBOT RESPONSE: I do not understand.\n",
      "DIALOGUE: How should I mail my plate so I can get the FS-6 T receipt?\n",
      "CHATBOT RESPONSE: I do not understand.\n",
      "DIALOGUE:  can I surrender them to the New York State DMV?\n",
      "CHATBOT RESPONSE: I do not understand.\n",
      "DIALOGUE: Can I give my plates to another person?\n",
      "CHATBOT RESPONSE: I do not understand.\n",
      "DIALOGUE: Can you tell me what to do to surrender New York State plates?\n",
      "CHATBOT RESPONSE: Yes, I can tell you what to do to surrender New York State plates?\n",
      "DIALOGUE: Can I do it by mail?\n",
      "CHATBOT RESPONSE: I do not understand.\n",
      "DIALOGUE:  so can I surrender my plates temporarily?\n",
      "CHATBOT RESPONSE: I do not understand.\n",
      "DIALOGUE:  so how can I get the FS-6 T receipt if I do the process by mail?\n",
      "CHATBOT RESPONSE: I do not understand.\n",
      "DIALOGUE: Need to know if my plates can be surrendered temporarily?\n",
      "CHATBOT RESPONSE: I do not understand.\n",
      "DIALOGUE:  So that I can send it to her,\n",
      "CHATBOT RESPONSE: I do not understand.\n",
      "DIALOGUE:  Or can I do the whole process by mail as if I was here?\n",
      "CHATBOT RESPONSE: I do not understand.\n",
      "DIALOGUE:  can i get a new one using the old registration?\n",
      "CHATBOT RESPONSE: I do not understand.\n",
      "DIALOGUE: How can I get a refund?\n",
      "CHATBOT RESPONSE: I do not understand.\n",
      "DIALOGUE: Can I surrender my plates temporarily?\n",
      "CHATBOT RESPONSE: I do not understand.\n",
      "DIALOGUE: If I find the plates can my brother-in-law bring them in to prove that I got them back?\n",
      "CHATBOT RESPONSE: I do not understand.\n",
      "DIALOGUE:  Can my little brother some in instead?\n",
      "CHATBOT RESPONSE: I do not understand.\n",
      "DIALOGUE:  Can I fill in some of the paperwork online?\n",
      "CHATBOT RESPONSE: I do not understand.\n",
      "DIALOGUE: Can I submit that online or do I have to print it up and give it to him to bring in?\n",
      "CHATBOT RESPONSE: I do not understand.\n",
      "DIALOGUE: In case I'm overseas what can I do to renew my non-driver ID card?\n",
      "CHATBOT RESPONSE: I do not understand.\n",
      "DIALOGUE: If my Temporary Visitor status is extended can I renew my non-driver ID card?\n",
      "CHATBOT RESPONSE: I do not understand.\n",
      "DIALOGUE:  can he get a reduced fee benefit when renewing his non-driver ID card?\n",
      "CHATBOT RESPONSE: I do not understand.\n",
      "DIALOGUE: Can you give me any additional information about renewing my non-driver ID card?\n",
      "CHATBOT RESPONSE: Yes, I can give you any additional information about renewing my non-driver ID card?\n",
      "DIALOGUE: What documents can I submit as proof of SSI?\n",
      "CHATBOT RESPONSE: I do not understand.\n",
      "DIALOGUE: can you give me more information about renewing the non-driver ID card?\n",
      "CHATBOT RESPONSE: Yes, I can give you more information about renewing the non-driver ID card?\n",
      "DIALOGUE: So how can I renew my non-driver ID card?\n",
      "CHATBOT RESPONSE: I do not understand.\n",
      "DIALOGUE: Can I renew more than 41 days before my 21st birthday?\n",
      "CHATBOT RESPONSE: I do not understand.\n",
      "DIALOGUE: In case my non-driver ID is expired for over 2 years can I still renew it?\n",
      "CHATBOT RESPONSE: I do not understand.\n",
      "DIALOGUE: Who can opt for the reduced fee or \"No Fee\" non-driver IDs?\n",
      "CHATBOT RESPONSE: I do not understand.\n",
      "DIALOGUE: So what can I do with my over 2 years expired non-driver ID card?\n",
      "CHATBOT RESPONSE: I do not understand.\n",
      "DIALOGUE: Can I renew my non-driver ID card if it expired 3 years ago?\n",
      "CHATBOT RESPONSE: I do not understand.\n",
      "DIALOGUE:  can you help me with this,\n",
      "CHATBOT RESPONSE: Yes, I can help you with this,\n",
      "DIALOGUE:  Can I please confirm the address that I can mail my ID renewal to is NYS Department of Motor Vehicles207 Genesee Street ,\n",
      "CHATBOT RESPONSE: I do not understand.\n",
      "DIALOGUE:  how can I get one?\n",
      "CHATBOT RESPONSE: I do not understand.\n",
      "DIALOGUE: How can I know again if I'm eligible for a refund?\n",
      "CHATBOT RESPONSE: I do not understand.\n",
      "DIALOGUE:  can I still get a refund?\n",
      "CHATBOT RESPONSE: I do not understand.\n",
      "DIALOGUE:  can I get a refund for the first year?\n",
      "CHATBOT RESPONSE: I do not understand.\n",
      "DIALOGUE: Can I get a refund for the first year of my registration after receiving a refund for the second year?\n",
      "CHATBOT RESPONSE: I do not understand.\n",
      "DIALOGUE:  can I get a refund?\n",
      "CHATBOT RESPONSE: I do not understand.\n",
      "DIALOGUE: How can I know if I'm eligible for a refund?\n",
      "CHATBOT RESPONSE: I do not understand.\n",
      "DIALOGUE: So there's nothing I can do if the sticker was attached to the windshield?\n",
      "CHATBOT RESPONSE: I do not understand.\n",
      "DIALOGUE: How can I know if am eligible for a refund?\n",
      "CHATBOT RESPONSE: I do not understand.\n",
      "DIALOGUE: Can I still apply for a refund if the registration sticker was attached to the plate?\n",
      "CHATBOT RESPONSE: I do not understand.\n",
      "DIALOGUE:  can I get a 2-year refund?\n",
      "CHATBOT RESPONSE: I do not understand.\n",
      "DIALOGUE:  can I still get a refund?\n",
      "CHATBOT RESPONSE: I do not understand.\n",
      "DIALOGUE: I was wondering if you could give me some more information about whether i can transfer credit from my old vehicle plate?\n",
      "CHATBOT RESPONSE: I do not understand.\n",
      "DIALOGUE: can i get a refund if i change my name?\n",
      "CHATBOT RESPONSE: I do not understand.\n",
      "DIALOGUE: how can i get a refund?\n",
      "CHATBOT RESPONSE: I do not understand.\n",
      "DIALOGUE: can i get a refund if i changed my name?\n",
      "CHATBOT RESPONSE: I do not understand.\n",
      "DIALOGUE: how can i get a refund?\n",
      "CHATBOT RESPONSE: I do not understand.\n",
      "DIALOGUE: How can I get my refund ?\n",
      "CHATBOT RESPONSE: I do not understand.\n",
      "DIALOGUE: Can I turn in the plates?\n",
      "CHATBOT RESPONSE: I do not understand.\n",
      "DIALOGUE:  can we get a refund?\n",
      "CHATBOT RESPONSE: I do not understand.\n",
      "DIALOGUE: Can I take my road test without having supervised practice driving?\n",
      "CHATBOT RESPONSE: I do not understand.\n",
      "DIALOGUE: Can I take my road test if I am under 18?\n",
      "CHATBOT RESPONSE: I do not understand.\n",
      "DIALOGUE:  can you help me with that please?\n",
      "CHATBOT RESPONSE: Yes, I can help you with that please?\n",
      "DIALOGUE:  can you help me´?\n",
      "CHATBOT RESPONSE: Yes, I can help you´?\n",
      "DIALOGUE:  how i can find one,\n",
      "CHATBOT RESPONSE: I do not understand.\n",
      "DIALOGUE:  What can you tell me about the topics being discussed on the course?\n",
      "CHATBOT RESPONSE: Yes, I can tell you about the topics being discussed on the course?\n",
      "DIALOGUE: Is there a minimum amount of proven supervised practice driving that I must have before I can take the raod test?\n",
      "CHATBOT RESPONSE: I do not understand.\n",
      "DIALOGUE: How can I prepare for my road test?\n",
      "CHATBOT RESPONSE: I do not understand.\n",
      "DIALOGUE:  What does it contain and how can I find one?\n",
      "CHATBOT RESPONSE: I do not understand.\n",
      "DIALOGUE:  Where can I take the course?\n",
      "CHATBOT RESPONSE: I do not understand.\n",
      "DIALOGUE: Can I file an appeal by mail?\n",
      "CHATBOT RESPONSE: I do not understand.\n",
      "DIALOGUE: Can I avoid to pay the fine after filing an appeal?\n",
      "CHATBOT RESPONSE: I do not understand.\n",
      "DIALOGUE: Can I send an appeal by mail?\n",
      "CHATBOT RESPONSE: I do not understand.\n",
      "DIALOGUE: Can I mail the DMV exhibits that can't be submitted online?\n",
      "CHATBOT RESPONSE: I do not understand.\n",
      "DIALOGUE: When can I appeal the denial of an application to reopen the default conviction?\n",
      "CHATBOT RESPONSE: I do not understand.\n",
      "DIALOGUE: What service can I use to check my appeal status?\n",
      "CHATBOT RESPONSE: I do not understand.\n",
      "DIALOGUE: How can I appeal a TVB ticket?\n",
      "CHATBOT RESPONSE: I do not understand.\n",
      "DIALOGUE:  Can you help me on this?\n",
      "CHATBOT RESPONSE: Yes, I can help you on this?\n",
      "DIALOGUE:  i suppose i can go online.\n",
      "CHATBOT RESPONSE: I do not understand.\n",
      "DIALOGUE:  Can you tell me what i need to do or if there is any condition to appeal in that way?\n",
      "CHATBOT RESPONSE: Yes, I can tell you what i need to do or if there is any condition to appeal in that way?\n",
      "DIALOGUE:  can i bring an attorney with me to represent me on the appealing?\n",
      "CHATBOT RESPONSE: I do not understand.\n",
      "DIALOGUE:  can i appeal the denial of an application,\n",
      "CHATBOT RESPONSE: I do not understand.\n",
      "DIALOGUE:  can i appeal that denial later?\n",
      "CHATBOT RESPONSE: I do not understand.\n",
      "DIALOGUE: Can i submit an additional Appeal Arguemnt?\n",
      "CHATBOT RESPONSE: I do not understand.\n",
      "DIALOGUE: Can NYS law requirements affect my appeal?\n",
      "CHATBOT RESPONSE: I do not understand.\n",
      "DIALOGUE: What transactions can I do online?\n",
      "CHATBOT RESPONSE: I do not understand.\n",
      "DIALOGUE:  can you tell me now what do I need to register a vehicle?\n",
      "CHATBOT RESPONSE: Yes, I can tell you now what do I need to register a vehicle?\n",
      "DIALOGUE: Tell me some transactions I can do online.\n",
      "CHATBOT RESPONSE: I do not understand.\n",
      "DIALOGUE: What other information can I get?\n",
      "CHATBOT RESPONSE: I do not understand.\n"
     ]
    }
   ],
   "source": [
    "for m in all_matches:   # matches is the list of phrases generated in your previous code cell\n",
    "    \n",
    "    # pretend that each match is an utterance from a user. The dialogue system must generate a response.\n",
    "    print('DIALOGUE: ' + m)    \n",
    "    \n",
    "    # generate responses\n",
    "    search_re = r'.*[Cc]an you'\n",
    "    if re.search(search_re, m):  # repond to the lines that say 'Can you...'\n",
    "        \n",
    "        response = re.sub(search_re + r'(.*)', r'Yes, I can\\1', m)\n",
    "        # replace 'me' with 'you'\n",
    "        response = re.sub(r'me', r'you', response)\n",
    "        \n",
    "        print('CHATBOT RESPONSE: ' + response)\n",
    "    else:  # respond to other lines\n",
    "        print('CHATBOT RESPONSE: I do not understand.')"
   ]
  },
  {
   "cell_type": "markdown",
   "metadata": {},
   "source": [
    "# 3. Tokenisation\n",
    "\n",
    "Up to now we have been able to work directly with the raw text. However, for most text processing tasks we will need to perform a number of steps to transform the raw text to a suitable format for a model such as a classifier or dialogue system. \n",
    "\n",
    "One of the key steps is *word tokenisation*, in which we splite a text string into separate pieces or 'tokens', corresponding to words and punctuation. In some languages this is actually quite tricky, and what constitutes a 'word' can have different meanings. Here, we will stick with English."
   ]
  },
  {
   "cell_type": "markdown",
   "metadata": {},
   "source": [
    "Let's start with a naïve approach: splitting the sentences based on whitespace. We'll use regular expressions to do it.\n",
    "\n",
    "The re module provides the re.split() function, which takes a regular expression as its argument and splits the text when it finds a match. The special character '\\s' is used to match whitespace characters -- not just spaces, but also tabs, newlines, etc..\n",
    "\n",
    "**TODO 3.1:** Use re.split() to split the raw text into tokens on whitespace characters. Save the sequence of tokens to a new variable called tokens."
   ]
  },
  {
   "cell_type": "code",
   "execution_count": 11,
   "metadata": {},
   "outputs": [
    {
     "name": "stdout",
     "output_type": "stream",
     "text": [
      "['If', 'I', 'want', 'to', 'register', 'my', 'vehicle', 'here', 'in', 'new', 'york,', 'I', 'was', 'forewarned', 'that', 'out-of-state', 'insurance', \"can't\", 'be', 'accepted?', '']\n"
     ]
    }
   ],
   "source": [
    "# The dataset has already stripped out most punctuation, so here's a made-up example:\n",
    "raw = \"If I want to register my vehicle here in new york, I was forewarned that out-of-state insurance can't be accepted? \"\n",
    "\n",
    "### WRITE YOUR OWN CODE HERE\n",
    "tokens = re.split(r'\\s', raw)\n",
    "###\n",
    "print(tokens)"
   ]
  },
  {
   "cell_type": "markdown",
   "metadata": {},
   "source": [
    "Whitespace tokenisation doesn't handle things like punctuation very well. For example, parentheses '()' are not excluded from the tokens. To see this, run the following code to inspect the non-letter characters in your tokens. "
   ]
  },
  {
   "cell_type": "code",
   "execution_count": 12,
   "metadata": {},
   "outputs": [
    {
     "name": "stdout",
     "output_type": "stream",
     "text": [
      "york,\n",
      "out-of-state\n",
      "can't\n",
      "accepted?\n"
     ]
    }
   ],
   "source": [
    "for tok in tokens:\n",
    "    if re.search(r'[^a-zA-Z0-9]', tok):\n",
    "        print(tok)"
   ]
  },
  {
   "cell_type": "markdown",
   "metadata": {},
   "source": [
    "If we start to split the tokens based on any non-letter characters, we can encounter further issues. The punctuation may be informative, so we should not throw it away. Hyphenated words may need to be kept together while contractions like \"don't\" might need to be split into \"do\" and \"n't\".\n",
    "\n",
    "Luckily, we can make use of existing rule-based tokenizers that deal with these issues:\n",
    "* Spacy: https://spacy.io/api/tokenizer\n",
    "* NLTK: https://www.kite.com/python/docs/nltk.word_tokenize \n",
    "\n",
    "For some domains and languages, tokenisation is not so easy and we may need to construct a regular-experession based approach.\n",
    "\n",
    "**TODO 3.2:** Refer to the documentation linked above for Spacy or NLTK's word tokeniser, and apply one of them to the raw text. Compare the output to the whitespace tokeniser. Save the tokens to a variable called 'tokens_rulebased'."
   ]
  },
  {
   "cell_type": "code",
   "execution_count": 13,
   "metadata": {},
   "outputs": [
    {
     "name": "stdout",
     "output_type": "stream",
     "text": [
      "['If', 'I', 'want', 'to', 'register', 'my', 'vehicle', 'here', 'in', 'new', 'york', ',', 'I', 'was', 'forewarned', 'that', 'out-of-state', 'insurance', 'ca', \"n't\", 'be', 'accepted', '?']\n"
     ]
    }
   ],
   "source": [
    "### WRITE YOUR OWN CODE HERE\n",
    "import nltk\n",
    "\n",
    "tokens_rulebased = nltk.word_tokenize(raw)\n",
    "    \n",
    "print(tokens_rulebased)"
   ]
  },
  {
   "cell_type": "markdown",
   "metadata": {},
   "source": [
    "**TODO 3.3:** Run the code below to see how NLTK has handled the non-letter characters. What does it do with most punctuation marks? When does it include punctuation marks in a token with letters? When does it not split tokens based on punctuation?"
   ]
  },
  {
   "cell_type": "code",
   "execution_count": 14,
   "metadata": {},
   "outputs": [
    {
     "name": "stdout",
     "output_type": "stream",
     "text": [
      ",\n",
      "out-of-state\n",
      "n't\n",
      "?\n"
     ]
    }
   ],
   "source": [
    "for tok in tokens_rulebased:\n",
    "    if re.search(r'[^a-zA-Z0-9]', tok):\n",
    "        print(tok)"
   ]
  },
  {
   "cell_type": "markdown",
   "metadata": {},
   "source": [
    "In the textbook, we also encountered subword tokenization methods, including byte-pair encoding (BPE). These methods have a specific vocabulary of tokens, which they have learned from a large dataset, and will divide the text into tokens from this vocabulary. If they come across an unknown word that is not in the vocabulary, they will divide it by finding smaller sub-word tokens that match part of the unknown word. This may result in a different set of tokens to the NLTK and Spacy methods. \n",
    "\n",
    "We can test this out using the implementation from HuggingFace's Transformers library:\n",
    "\n",
    "https://huggingface.co/transformers/tokenizer_summary.html\n",
    "\n",
    "GPT2 is a famous language model, which has its own tokenizer:"
   ]
  },
  {
   "cell_type": "code",
   "execution_count": 15,
   "metadata": {},
   "outputs": [],
   "source": [
    "from transformers import GPT2Tokenizer\n",
    "bpe_tokenizer= GPT2Tokenizer.from_pretrained(\"gpt2\")\n",
    "tokens_bpe = bpe_tokenizer.tokenize(raw)"
   ]
  },
  {
   "cell_type": "markdown",
   "metadata": {},
   "source": [
    "**TODO 3.4:** Print out some of the tokens and see if you can find any subwords. \n",
    "\n",
    "There will be some strange symbols that encode whitespaces, which are treated as part of the following word. See if you can work out what they represent."
   ]
  },
  {
   "cell_type": "code",
   "execution_count": 16,
   "metadata": {},
   "outputs": [
    {
     "data": {
      "text/plain": [
       "['If',\n",
       " 'ĠI',\n",
       " 'Ġwant',\n",
       " 'Ġto',\n",
       " 'Ġregister',\n",
       " 'Ġmy',\n",
       " 'Ġvehicle',\n",
       " 'Ġhere',\n",
       " 'Ġin',\n",
       " 'Ġnew',\n",
       " 'Ġy',\n",
       " 'ork',\n",
       " ',',\n",
       " 'ĠI',\n",
       " 'Ġwas',\n",
       " 'Ġfore',\n",
       " 'warn',\n",
       " 'ed',\n",
       " 'Ġthat',\n",
       " 'Ġout',\n",
       " '-',\n",
       " 'of',\n",
       " '-',\n",
       " 'state',\n",
       " 'Ġinsurance',\n",
       " 'Ġcan',\n",
       " \"'t\",\n",
       " 'Ġbe',\n",
       " 'Ġaccepted',\n",
       " '?',\n",
       " 'Ġ']"
      ]
     },
     "execution_count": 16,
     "metadata": {},
     "output_type": "execute_result"
    }
   ],
   "source": [
    "tokens_bpe"
   ]
  },
  {
   "cell_type": "markdown",
   "metadata": {},
   "source": [
    "You may also have heard of the BERT model. It uses a similar subword tokenisation method to BPE, called wordpiece. We can also test that out using the HuggingFace Transformers library. \n",
    "\n",
    "**TODO 3.5:** Use the code below to see if you can find some differences between BERT's wordpiece method and BPE."
   ]
  },
  {
   "cell_type": "code",
   "execution_count": 17,
   "metadata": {},
   "outputs": [],
   "source": [
    "from transformers import BertTokenizer\n",
    "tokenizer = BertTokenizer.from_pretrained(\"bert-base-uncased\")\n",
    "tokens_wp = tokenizer.tokenize(raw)"
   ]
  },
  {
   "cell_type": "code",
   "execution_count": 18,
   "metadata": {},
   "outputs": [
    {
     "data": {
      "text/plain": [
       "['if',\n",
       " 'i',\n",
       " 'want',\n",
       " 'to',\n",
       " 'register',\n",
       " 'my',\n",
       " 'vehicle',\n",
       " 'here',\n",
       " 'in',\n",
       " 'new',\n",
       " 'york',\n",
       " ',',\n",
       " 'i',\n",
       " 'was',\n",
       " 'fore',\n",
       " '##war',\n",
       " '##ned',\n",
       " 'that',\n",
       " 'out',\n",
       " '-',\n",
       " 'of',\n",
       " '-',\n",
       " 'state',\n",
       " 'insurance',\n",
       " 'can',\n",
       " \"'\",\n",
       " 't',\n",
       " 'be',\n",
       " 'accepted',\n",
       " '?']"
      ]
     },
     "execution_count": 18,
     "metadata": {},
     "output_type": "execute_result"
    }
   ],
   "source": [
    "tokens_wp"
   ]
  }
 ],
 "metadata": {
  "kernelspec": {
   "display_name": "dialogue_and_narrative",
   "language": "python",
   "name": "dialogue_and_narrative"
  },
  "language_info": {
   "codemirror_mode": {
    "name": "ipython",
    "version": 3
   },
   "file_extension": ".py",
   "mimetype": "text/x-python",
   "name": "python",
   "nbconvert_exporter": "python",
   "pygments_lexer": "ipython3",
   "version": "3.10.6"
  }
 },
 "nbformat": 4,
 "nbformat_minor": 4
}
